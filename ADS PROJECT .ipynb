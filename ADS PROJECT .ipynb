{
 "cells": [
  {
   "cell_type": "markdown",
   "id": "602d9320",
   "metadata": {},
   "source": [
    "#                  ADS PROJECT  - HEART STROKE PREDICTION"
   ]
  },
  {
   "cell_type": "markdown",
   "id": "0be50871",
   "metadata": {},
   "source": [
    "### SUBMITTED BY \n",
    "######       RAIMA ROJ - 222BDA10\n",
    "######       ARYA S - 222BDA40\n",
    "######       ANN MARIA JOY - 222BDA47                     "
   ]
  },
  {
   "cell_type": "code",
   "execution_count": 1,
   "id": "40fc3201",
   "metadata": {},
   "outputs": [],
   "source": [
    "# Importing the necessary packages\n",
    "\n",
    "import pandas as pd               \n",
    "import numpy as np\n",
    "import matplotlib.pyplot as plt \n",
    "import seaborn as sns\n",
    "import plotly.express as px\n",
    "\n",
    "import missingno as msno\n",
    "\n",
    "from scipy import stats\n",
    "\n",
    "import warnings\n",
    "warnings.filterwarnings('ignore')\n",
    "%matplotlib inline"
   ]
  },
  {
   "cell_type": "code",
   "execution_count": 2,
   "id": "b0531ca6",
   "metadata": {},
   "outputs": [],
   "source": [
    "# Loading the dataset\n",
    "\n",
    "df =pd.read_csv(\"train_strokes.csv\")      "
   ]
  },
  {
   "cell_type": "code",
   "execution_count": 3,
   "id": "3d2c0330",
   "metadata": {},
   "outputs": [
    {
     "data": {
      "text/html": [
       "<div>\n",
       "<style scoped>\n",
       "    .dataframe tbody tr th:only-of-type {\n",
       "        vertical-align: middle;\n",
       "    }\n",
       "\n",
       "    .dataframe tbody tr th {\n",
       "        vertical-align: top;\n",
       "    }\n",
       "\n",
       "    .dataframe thead th {\n",
       "        text-align: right;\n",
       "    }\n",
       "</style>\n",
       "<table border=\"1\" class=\"dataframe\">\n",
       "  <thead>\n",
       "    <tr style=\"text-align: right;\">\n",
       "      <th></th>\n",
       "      <th>id</th>\n",
       "      <th>gender</th>\n",
       "      <th>age</th>\n",
       "      <th>hypertension</th>\n",
       "      <th>heart_disease</th>\n",
       "      <th>ever_married</th>\n",
       "      <th>work_type</th>\n",
       "      <th>Residence_type</th>\n",
       "      <th>avg_glucose_level</th>\n",
       "      <th>bmi</th>\n",
       "      <th>smoking_status</th>\n",
       "      <th>stroke</th>\n",
       "    </tr>\n",
       "  </thead>\n",
       "  <tbody>\n",
       "    <tr>\n",
       "      <th>0</th>\n",
       "      <td>30669</td>\n",
       "      <td>Male</td>\n",
       "      <td>3.0</td>\n",
       "      <td>0</td>\n",
       "      <td>0</td>\n",
       "      <td>No</td>\n",
       "      <td>children</td>\n",
       "      <td>Rural</td>\n",
       "      <td>95.12</td>\n",
       "      <td>18.0</td>\n",
       "      <td>NaN</td>\n",
       "      <td>0</td>\n",
       "    </tr>\n",
       "    <tr>\n",
       "      <th>1</th>\n",
       "      <td>30468</td>\n",
       "      <td>Male</td>\n",
       "      <td>58.0</td>\n",
       "      <td>1</td>\n",
       "      <td>0</td>\n",
       "      <td>Yes</td>\n",
       "      <td>Private</td>\n",
       "      <td>Urban</td>\n",
       "      <td>87.96</td>\n",
       "      <td>39.2</td>\n",
       "      <td>never smoked</td>\n",
       "      <td>0</td>\n",
       "    </tr>\n",
       "    <tr>\n",
       "      <th>2</th>\n",
       "      <td>16523</td>\n",
       "      <td>Female</td>\n",
       "      <td>8.0</td>\n",
       "      <td>0</td>\n",
       "      <td>0</td>\n",
       "      <td>No</td>\n",
       "      <td>Private</td>\n",
       "      <td>Urban</td>\n",
       "      <td>110.89</td>\n",
       "      <td>17.6</td>\n",
       "      <td>NaN</td>\n",
       "      <td>0</td>\n",
       "    </tr>\n",
       "    <tr>\n",
       "      <th>3</th>\n",
       "      <td>56543</td>\n",
       "      <td>Female</td>\n",
       "      <td>70.0</td>\n",
       "      <td>0</td>\n",
       "      <td>0</td>\n",
       "      <td>Yes</td>\n",
       "      <td>Private</td>\n",
       "      <td>Rural</td>\n",
       "      <td>69.04</td>\n",
       "      <td>35.9</td>\n",
       "      <td>formerly smoked</td>\n",
       "      <td>0</td>\n",
       "    </tr>\n",
       "    <tr>\n",
       "      <th>4</th>\n",
       "      <td>46136</td>\n",
       "      <td>Male</td>\n",
       "      <td>14.0</td>\n",
       "      <td>0</td>\n",
       "      <td>0</td>\n",
       "      <td>No</td>\n",
       "      <td>Never_worked</td>\n",
       "      <td>Rural</td>\n",
       "      <td>161.28</td>\n",
       "      <td>19.1</td>\n",
       "      <td>NaN</td>\n",
       "      <td>0</td>\n",
       "    </tr>\n",
       "    <tr>\n",
       "      <th>5</th>\n",
       "      <td>32257</td>\n",
       "      <td>Female</td>\n",
       "      <td>47.0</td>\n",
       "      <td>0</td>\n",
       "      <td>0</td>\n",
       "      <td>Yes</td>\n",
       "      <td>Private</td>\n",
       "      <td>Urban</td>\n",
       "      <td>210.95</td>\n",
       "      <td>50.1</td>\n",
       "      <td>NaN</td>\n",
       "      <td>0</td>\n",
       "    </tr>\n",
       "    <tr>\n",
       "      <th>6</th>\n",
       "      <td>52800</td>\n",
       "      <td>Female</td>\n",
       "      <td>52.0</td>\n",
       "      <td>0</td>\n",
       "      <td>0</td>\n",
       "      <td>Yes</td>\n",
       "      <td>Private</td>\n",
       "      <td>Urban</td>\n",
       "      <td>77.59</td>\n",
       "      <td>17.7</td>\n",
       "      <td>formerly smoked</td>\n",
       "      <td>0</td>\n",
       "    </tr>\n",
       "    <tr>\n",
       "      <th>7</th>\n",
       "      <td>41413</td>\n",
       "      <td>Female</td>\n",
       "      <td>75.0</td>\n",
       "      <td>0</td>\n",
       "      <td>1</td>\n",
       "      <td>Yes</td>\n",
       "      <td>Self-employed</td>\n",
       "      <td>Rural</td>\n",
       "      <td>243.53</td>\n",
       "      <td>27.0</td>\n",
       "      <td>never smoked</td>\n",
       "      <td>0</td>\n",
       "    </tr>\n",
       "    <tr>\n",
       "      <th>8</th>\n",
       "      <td>15266</td>\n",
       "      <td>Female</td>\n",
       "      <td>32.0</td>\n",
       "      <td>0</td>\n",
       "      <td>0</td>\n",
       "      <td>Yes</td>\n",
       "      <td>Private</td>\n",
       "      <td>Rural</td>\n",
       "      <td>77.67</td>\n",
       "      <td>32.3</td>\n",
       "      <td>smokes</td>\n",
       "      <td>0</td>\n",
       "    </tr>\n",
       "    <tr>\n",
       "      <th>9</th>\n",
       "      <td>28674</td>\n",
       "      <td>Female</td>\n",
       "      <td>74.0</td>\n",
       "      <td>1</td>\n",
       "      <td>0</td>\n",
       "      <td>Yes</td>\n",
       "      <td>Self-employed</td>\n",
       "      <td>Urban</td>\n",
       "      <td>205.84</td>\n",
       "      <td>54.6</td>\n",
       "      <td>never smoked</td>\n",
       "      <td>0</td>\n",
       "    </tr>\n",
       "  </tbody>\n",
       "</table>\n",
       "</div>"
      ],
      "text/plain": [
       "      id  gender   age  hypertension  heart_disease ever_married  \\\n",
       "0  30669    Male   3.0             0              0           No   \n",
       "1  30468    Male  58.0             1              0          Yes   \n",
       "2  16523  Female   8.0             0              0           No   \n",
       "3  56543  Female  70.0             0              0          Yes   \n",
       "4  46136    Male  14.0             0              0           No   \n",
       "5  32257  Female  47.0             0              0          Yes   \n",
       "6  52800  Female  52.0             0              0          Yes   \n",
       "7  41413  Female  75.0             0              1          Yes   \n",
       "8  15266  Female  32.0             0              0          Yes   \n",
       "9  28674  Female  74.0             1              0          Yes   \n",
       "\n",
       "       work_type Residence_type  avg_glucose_level   bmi   smoking_status  \\\n",
       "0       children          Rural              95.12  18.0              NaN   \n",
       "1        Private          Urban              87.96  39.2     never smoked   \n",
       "2        Private          Urban             110.89  17.6              NaN   \n",
       "3        Private          Rural              69.04  35.9  formerly smoked   \n",
       "4   Never_worked          Rural             161.28  19.1              NaN   \n",
       "5        Private          Urban             210.95  50.1              NaN   \n",
       "6        Private          Urban              77.59  17.7  formerly smoked   \n",
       "7  Self-employed          Rural             243.53  27.0     never smoked   \n",
       "8        Private          Rural              77.67  32.3           smokes   \n",
       "9  Self-employed          Urban             205.84  54.6     never smoked   \n",
       "\n",
       "   stroke  \n",
       "0       0  \n",
       "1       0  \n",
       "2       0  \n",
       "3       0  \n",
       "4       0  \n",
       "5       0  \n",
       "6       0  \n",
       "7       0  \n",
       "8       0  \n",
       "9       0  "
      ]
     },
     "execution_count": 3,
     "metadata": {},
     "output_type": "execute_result"
    }
   ],
   "source": [
    "df.head(10)"
   ]
  },
  {
   "cell_type": "code",
   "execution_count": 4,
   "id": "1c0930e2",
   "metadata": {},
   "outputs": [
    {
     "data": {
      "text/plain": [
       "(43400, 12)"
      ]
     },
     "execution_count": 4,
     "metadata": {},
     "output_type": "execute_result"
    }
   ],
   "source": [
    "# There are 43,400 rows and 12 columns in our dataset.\n",
    "\n",
    "df.shape "
   ]
  },
  {
   "cell_type": "code",
   "execution_count": 5,
   "id": "79b8f2ac",
   "metadata": {},
   "outputs": [
    {
     "name": "stdout",
     "output_type": "stream",
     "text": [
      "<class 'pandas.core.frame.DataFrame'>\n",
      "RangeIndex: 43400 entries, 0 to 43399\n",
      "Data columns (total 12 columns):\n",
      " #   Column             Non-Null Count  Dtype  \n",
      "---  ------             --------------  -----  \n",
      " 0   id                 43400 non-null  int64  \n",
      " 1   gender             43400 non-null  object \n",
      " 2   age                43400 non-null  float64\n",
      " 3   hypertension       43400 non-null  int64  \n",
      " 4   heart_disease      43400 non-null  int64  \n",
      " 5   ever_married       43400 non-null  object \n",
      " 6   work_type          43400 non-null  object \n",
      " 7   Residence_type     43400 non-null  object \n",
      " 8   avg_glucose_level  43400 non-null  float64\n",
      " 9   bmi                41938 non-null  float64\n",
      " 10  smoking_status     30108 non-null  object \n",
      " 11  stroke             43400 non-null  int64  \n",
      "dtypes: float64(3), int64(4), object(5)\n",
      "memory usage: 4.0+ MB\n"
     ]
    }
   ],
   "source": [
    "# Concise summary of the dataset is understood.\n",
    "\n",
    "df.info()"
   ]
  },
  {
   "cell_type": "code",
   "execution_count": 6,
   "id": "5f6ce3f6",
   "metadata": {},
   "outputs": [
    {
     "data": {
      "text/html": [
       "<div>\n",
       "<style scoped>\n",
       "    .dataframe tbody tr th:only-of-type {\n",
       "        vertical-align: middle;\n",
       "    }\n",
       "\n",
       "    .dataframe tbody tr th {\n",
       "        vertical-align: top;\n",
       "    }\n",
       "\n",
       "    .dataframe thead th {\n",
       "        text-align: right;\n",
       "    }\n",
       "</style>\n",
       "<table border=\"1\" class=\"dataframe\">\n",
       "  <thead>\n",
       "    <tr style=\"text-align: right;\">\n",
       "      <th></th>\n",
       "      <th>id</th>\n",
       "      <th>age</th>\n",
       "      <th>hypertension</th>\n",
       "      <th>heart_disease</th>\n",
       "      <th>avg_glucose_level</th>\n",
       "      <th>bmi</th>\n",
       "      <th>stroke</th>\n",
       "    </tr>\n",
       "  </thead>\n",
       "  <tbody>\n",
       "    <tr>\n",
       "      <th>count</th>\n",
       "      <td>43400.000000</td>\n",
       "      <td>43400.000000</td>\n",
       "      <td>43400.000000</td>\n",
       "      <td>43400.000000</td>\n",
       "      <td>43400.000000</td>\n",
       "      <td>41938.000000</td>\n",
       "      <td>43400.000000</td>\n",
       "    </tr>\n",
       "    <tr>\n",
       "      <th>mean</th>\n",
       "      <td>36326.142350</td>\n",
       "      <td>42.217894</td>\n",
       "      <td>0.093571</td>\n",
       "      <td>0.047512</td>\n",
       "      <td>104.482750</td>\n",
       "      <td>28.605038</td>\n",
       "      <td>0.018041</td>\n",
       "    </tr>\n",
       "    <tr>\n",
       "      <th>std</th>\n",
       "      <td>21072.134879</td>\n",
       "      <td>22.519649</td>\n",
       "      <td>0.291235</td>\n",
       "      <td>0.212733</td>\n",
       "      <td>43.111751</td>\n",
       "      <td>7.770020</td>\n",
       "      <td>0.133103</td>\n",
       "    </tr>\n",
       "    <tr>\n",
       "      <th>min</th>\n",
       "      <td>1.000000</td>\n",
       "      <td>0.080000</td>\n",
       "      <td>0.000000</td>\n",
       "      <td>0.000000</td>\n",
       "      <td>55.000000</td>\n",
       "      <td>10.100000</td>\n",
       "      <td>0.000000</td>\n",
       "    </tr>\n",
       "    <tr>\n",
       "      <th>25%</th>\n",
       "      <td>18038.500000</td>\n",
       "      <td>24.000000</td>\n",
       "      <td>0.000000</td>\n",
       "      <td>0.000000</td>\n",
       "      <td>77.540000</td>\n",
       "      <td>23.200000</td>\n",
       "      <td>0.000000</td>\n",
       "    </tr>\n",
       "    <tr>\n",
       "      <th>50%</th>\n",
       "      <td>36351.500000</td>\n",
       "      <td>44.000000</td>\n",
       "      <td>0.000000</td>\n",
       "      <td>0.000000</td>\n",
       "      <td>91.580000</td>\n",
       "      <td>27.700000</td>\n",
       "      <td>0.000000</td>\n",
       "    </tr>\n",
       "    <tr>\n",
       "      <th>75%</th>\n",
       "      <td>54514.250000</td>\n",
       "      <td>60.000000</td>\n",
       "      <td>0.000000</td>\n",
       "      <td>0.000000</td>\n",
       "      <td>112.070000</td>\n",
       "      <td>32.900000</td>\n",
       "      <td>0.000000</td>\n",
       "    </tr>\n",
       "    <tr>\n",
       "      <th>max</th>\n",
       "      <td>72943.000000</td>\n",
       "      <td>82.000000</td>\n",
       "      <td>1.000000</td>\n",
       "      <td>1.000000</td>\n",
       "      <td>291.050000</td>\n",
       "      <td>97.600000</td>\n",
       "      <td>1.000000</td>\n",
       "    </tr>\n",
       "  </tbody>\n",
       "</table>\n",
       "</div>"
      ],
      "text/plain": [
       "                 id           age  hypertension  heart_disease  \\\n",
       "count  43400.000000  43400.000000  43400.000000   43400.000000   \n",
       "mean   36326.142350     42.217894      0.093571       0.047512   \n",
       "std    21072.134879     22.519649      0.291235       0.212733   \n",
       "min        1.000000      0.080000      0.000000       0.000000   \n",
       "25%    18038.500000     24.000000      0.000000       0.000000   \n",
       "50%    36351.500000     44.000000      0.000000       0.000000   \n",
       "75%    54514.250000     60.000000      0.000000       0.000000   \n",
       "max    72943.000000     82.000000      1.000000       1.000000   \n",
       "\n",
       "       avg_glucose_level           bmi        stroke  \n",
       "count       43400.000000  41938.000000  43400.000000  \n",
       "mean          104.482750     28.605038      0.018041  \n",
       "std            43.111751      7.770020      0.133103  \n",
       "min            55.000000     10.100000      0.000000  \n",
       "25%            77.540000     23.200000      0.000000  \n",
       "50%            91.580000     27.700000      0.000000  \n",
       "75%           112.070000     32.900000      0.000000  \n",
       "max           291.050000     97.600000      1.000000  "
      ]
     },
     "execution_count": 6,
     "metadata": {},
     "output_type": "execute_result"
    }
   ],
   "source": [
    "# Computed the summary statistics of the our dataset.\n",
    "\n",
    "df.describe()                               "
   ]
  },
  {
   "cell_type": "code",
   "execution_count": 7,
   "id": "f41fc231",
   "metadata": {},
   "outputs": [
    {
     "data": {
      "image/png": "[encoded data removed]",
      "text/plain": [
       "<Figure size 1800x720 with 3 Axes>"
      ]
     },
     "metadata": {
      "needs_background": "light"
     },
     "output_type": "display_data"
    }
   ],
   "source": [
    "# This gives the bar chart that visualizes missing values.\n",
    "# It can be clearly seen that bmi and smoking_status has significant amount of missing values.\n",
    "\n",
    "msno.bar(df)       \n",
    "plt.show()         "
   ]
  },
  {
   "cell_type": "markdown",
   "id": "dc6e95bd",
   "metadata": {},
   "source": [
    "### OR"
   ]
  },
  {
   "cell_type": "code",
   "execution_count": 8,
   "id": "7924e4f1",
   "metadata": {},
   "outputs": [
    {
     "data": {
      "text/plain": [
       "id                       0\n",
       "gender                   0\n",
       "age                      0\n",
       "hypertension             0\n",
       "heart_disease            0\n",
       "ever_married             0\n",
       "work_type                0\n",
       "Residence_type           0\n",
       "avg_glucose_level        0\n",
       "bmi                   1462\n",
       "smoking_status       13292\n",
       "stroke                   0\n",
       "dtype: int64"
      ]
     },
     "execution_count": 8,
     "metadata": {},
     "output_type": "execute_result"
    }
   ],
   "source": [
    "# Similar to the previous cell, another method to find the total number no. of missing values for each column.\n",
    "\n",
    "df.isnull().sum()         "
   ]
  },
  {
   "cell_type": "code",
   "execution_count": 9,
   "id": "4878f955",
   "metadata": {},
   "outputs": [],
   "source": [
    "# Dropped the'id' column because it is irrelevant for our problem and does not convey any information.\n",
    "\n",
    "df=df.drop(['id'],axis=1)       "
   ]
  },
  {
   "cell_type": "code",
   "execution_count": 10,
   "id": "ae0a7c76",
   "metadata": {},
   "outputs": [
    {
     "data": {
      "text/plain": [
       "array([18. , 39.2, 17.6, 35.9, 19.1, 50.1, 17.7, 27. , 32.3, 54.6, 35. ,\n",
       "       22. , 39.4, 26.1, 42.4, 33. , 19.7, 22.5, 24.6, 25.2, 41.8, 60.9,\n",
       "       31.5, 27.3, 23.7, 24.5, 28.4, 26.9, 26.7, 31.2, 25. , 25.4, 27.5,\n",
       "       16. , 31.6, 25.1, 30.9, 24.8, 23.4, 29.4, 18.3, 20. , 19.5, 36. ,\n",
       "       27.7, 28.5, 26.8, 33.6, 29.1, 34.9, 35.3, 26.4, 40.1, 43.1, 36.7,\n",
       "       29.3, 21.2, 36.6, 21.4, 27.9, 34.3, 31. , 38.7, 27.6, 16.5, 22.8,\n",
       "       35.4, 24.3, 25.7, 21.9,  nan, 38.4, 30.5, 25.9, 54.7, 29.9, 18.6,\n",
       "       27.1, 24.9, 19.4, 29. , 48.2, 34.6, 25.8, 27.2, 20.7, 30. , 37.3,\n",
       "       34.1, 23.6, 39.5, 23.5, 23.3, 64.8, 28.1, 24.4, 29.8, 35.1, 43.6,\n",
       "       21. , 47.3, 16.6, 37.5, 24.2, 21.6, 31.1, 15.5, 20.5, 35.6, 16.7,\n",
       "       41.9, 16.4, 17.1, 29.2, 37.9, 32.5, 44.6, 33.2, 22.3, 39.6, 37.8,\n",
       "       40.3, 41.5, 41.6, 23.8, 39. , 23.2, 18.9, 36.1, 36.3, 40.5, 46.5,\n",
       "       16.8, 46.6, 26.2, 35.2, 20.9, 36.8, 34.4, 22.2, 13.8, 31.7, 34.2,\n",
       "       36.9, 31.9, 31.8, 29.5, 28.8, 28.9, 15.3, 37.1, 38.2, 30.2, 45.2,\n",
       "       21.8, 17. , 49.8, 27.8, 60.2, 27.4, 22.9, 26.6, 23. , 32.6, 22.1,\n",
       "       25.5, 31.4, 26. , 21.7, 29.7, 44.3, 51. , 39.7, 34.7, 21.3, 23.9,\n",
       "       41.2, 30.7, 34.8, 19.2, 24. , 35.7, 35.8, 40.8, 24.7, 45. , 28.3,\n",
       "       19. , 32.4, 34. , 28.7, 32.1, 23.1, 51.5, 20.4, 29.6, 30.6, 71.9,\n",
       "       22.6, 26.5, 19.3, 40.9, 17.2, 16.1, 16.2, 32. , 40.4, 28. , 40.6,\n",
       "       18.4, 34.5, 21.1, 42.3, 32.2, 50.2, 17.5, 30.8, 18.7, 42.1, 32.8,\n",
       "       47.8, 39.3, 20.8, 30.1, 17.3, 36.4, 25.3, 12. , 36.2, 55.7, 14.4,\n",
       "       43. , 42.2, 41.7, 33.8, 43.9, 22.7, 25.6, 57.5, 37. , 38.5, 16.3,\n",
       "       20.3, 41.1, 44. , 32.7, 54.2, 40.2, 33.3, 17.4, 41.3, 52.3, 30.3,\n",
       "       14.6, 17.8, 46.1, 32.9, 33.1, 18.1, 43.8, 37.4, 50.3, 38.9, 28.6,\n",
       "       43.7, 39.9, 15.9, 35.5, 20.1, 31.3, 22.4, 19.8, 12.3, 78. , 38.3,\n",
       "       41. , 42.6, 43.4, 15.1, 20.6, 33.5, 43.2, 30.4, 38. , 33.4, 44.9,\n",
       "       28.2, 44.7, 37.6, 39.8, 53.4, 55.2, 42. , 37.2, 45.5, 42.8, 24.1,\n",
       "       18.8, 42.9, 14.3, 37.7, 21.5, 48.4, 50.6, 26.3, 46.2, 49.5, 43.3,\n",
       "       33.9, 18.5, 44.5, 45.4, 55. , 54.8, 33.7, 19.9, 17.9, 15.6, 48.9,\n",
       "       16.9, 36.5, 47.5, 52.8, 38.6, 15.2, 40. , 66.8, 55.1, 18.2, 48.5,\n",
       "       55.9, 57.3, 20.2, 10.3, 14.1, 15.7, 56. , 44.8, 13.4, 51.8, 38.1,\n",
       "       57.7, 44.4, 38.8, 44.2, 49.3, 39.1, 54. , 56.1, 97.6, 53.9, 19.6,\n",
       "       13.7, 11.5, 41.4, 14.2, 49.4, 15.4, 45.1, 49.2, 48.7, 53.8, 42.7,\n",
       "       48.8, 52.7, 53.5, 50.5, 15.8, 45.3, 46. , 14.8, 51.9, 63.3, 40.7,\n",
       "       45.9, 61.2, 48. , 46.8, 48.3, 58.1, 50.4, 11.3, 12.8, 13.5, 14.5,\n",
       "       15. , 59.7, 47.4, 52.5, 13.2, 52.9, 61.6, 49.9, 54.3, 47.9, 13. ,\n",
       "       13.9, 50.9, 57.2, 64.4, 92. , 50.8, 57.9, 45.8, 47.6, 14. , 46.4,\n",
       "       46.9, 47.1, 13.3, 48.1, 51.7, 45.7, 42.5, 46.3, 54.1, 14.9, 56.6,\n",
       "       44.1, 60. , 46.7, 69.8, 51.1, 14.7, 11.7, 11.6, 47.2, 43.5, 56.4,\n",
       "       48.6, 51.6, 89.1, 10.6, 45.6, 61. , 64.2, 55.8, 52.4, 57. , 49.7,\n",
       "       52.6, 12.7, 63.8, 66.3, 62.2, 53.2, 55.5, 60.1, 56.8, 55.4, 47.7,\n",
       "       54.9, 56.5, 49.1, 68.6, 13.1, 63.6, 52. , 56.7, 57.1, 47. , 58.4,\n",
       "       49.6, 51.3, 51.4, 51.2, 50. , 54.4, 64.9, 63.2, 96.1, 54.5, 49. ,\n",
       "       53. , 53.3, 12.4, 11.2, 58.9, 13.6, 53.6, 52.1, 52.2, 65.8, 60.5,\n",
       "       56.9, 55.3, 12.9, 11. , 64. , 58.2, 12.5, 60.7, 59.1, 72.2, 53.1,\n",
       "       10.8, 63. , 59. , 62.3, 61.8, 68.5, 11.9, 57.6, 69.4, 71.5, 60.3,\n",
       "       59.2, 61.9, 58.7, 10.5, 62.9, 71.8, 59.3, 11.1, 64.7, 12.1, 65.7,\n",
       "       61.1, 60.6, 58.6, 56.3, 50.7, 70.6, 58.8, 12.2, 65.3, 70.3, 62. ,\n",
       "       55.6, 57.4, 59.9, 57.8, 68. , 88.6, 56.2, 10.1, 58.3, 80.1, 65.2,\n",
       "       11.4, 59.6, 53.7, 82.7, 63.5, 66.4, 58.5, 64.1, 80.2, 65.5, 65.9,\n",
       "       67. , 71.7, 58. , 61.3, 12.6, 89. ])"
      ]
     },
     "execution_count": 10,
     "metadata": {},
     "output_type": "execute_result"
    }
   ],
   "source": [
    "df['bmi'].unique()"
   ]
  },
  {
   "cell_type": "code",
   "execution_count": 11,
   "id": "3385478c",
   "metadata": {},
   "outputs": [
    {
     "data": {
      "text/plain": [
       "<AxesSubplot:>"
      ]
     },
     "execution_count": 11,
     "metadata": {},
     "output_type": "execute_result"
    },
    {
     "data": {
      "image/png": "[encoded data removed]",
      "text/plain": [
       "<Figure size 432x288 with 1 Axes>"
      ]
     },
     "metadata": {
      "needs_background": "light"
     },
     "output_type": "display_data"
    }
   ],
   "source": [
    "# Observed that there are outliers in 'bmi' using boxplot.\n",
    "# Therefore,we found the median to fill the missing values.\n",
    "\n",
    "df.boxplot('bmi')"
   ]
  },
  {
   "cell_type": "code",
   "execution_count": 12,
   "id": "7afcffed",
   "metadata": {},
   "outputs": [],
   "source": [
    "med=df['bmi'].median()\n",
    "df['bmi'].fillna(med,inplace=True)"
   ]
  },
  {
   "cell_type": "code",
   "execution_count": 13,
   "id": "d4c9024c",
   "metadata": {},
   "outputs": [
    {
     "data": {
      "text/plain": [
       "array([nan, 'never smoked', 'formerly smoked', 'smokes'], dtype=object)"
      ]
     },
     "execution_count": 13,
     "metadata": {},
     "output_type": "execute_result"
    }
   ],
   "source": [
    "# Found the unique values in the column 'smoking_status'.\n",
    "\n",
    "df['smoking_status'].unique() "
   ]
  },
  {
   "cell_type": "code",
   "execution_count": 14,
   "id": "044037d3",
   "metadata": {},
   "outputs": [
    {
     "data": {
      "text/plain": [
       "never smoked       16053\n",
       "not known          13292\n",
       "formerly smoked     7493\n",
       "smokes              6562\n",
       "Name: smoking_status, dtype: int64"
      ]
     },
     "execution_count": 14,
     "metadata": {},
     "output_type": "execute_result"
    }
   ],
   "source": [
    "# Observed there are quite a few nan values in this feature.\n",
    "# So we grouped those values into another category called 'not known'.\n",
    "\n",
    "df['smoking_status'].fillna('not known', inplace=True) \n",
    "df['smoking_status'].value_counts()          "
   ]
  },
  {
   "cell_type": "code",
   "execution_count": 15,
   "id": "85461363",
   "metadata": {},
   "outputs": [
    {
     "data": {
      "text/plain": [
       "Female    25665\n",
       "Male      17724\n",
       "Other        11\n",
       "Name: gender, dtype: int64"
      ]
     },
     "execution_count": 15,
     "metadata": {},
     "output_type": "execute_result"
    }
   ],
   "source": [
    "df['gender'].value_counts()"
   ]
  },
  {
   "cell_type": "code",
   "execution_count": 16,
   "id": "1bdb8e89",
   "metadata": {},
   "outputs": [],
   "source": [
    "# We observed that there are very less values in the category 'other' so we dropped it.\n",
    "\n",
    "df=df[df['gender']!='Other']"
   ]
  },
  {
   "cell_type": "code",
   "execution_count": 17,
   "id": "31e8c07f",
   "metadata": {},
   "outputs": [
    {
     "data": {
      "text/plain": [
       "gender               0\n",
       "age                  0\n",
       "hypertension         0\n",
       "heart_disease        0\n",
       "ever_married         0\n",
       "work_type            0\n",
       "Residence_type       0\n",
       "avg_glucose_level    0\n",
       "bmi                  0\n",
       "smoking_status       0\n",
       "stroke               0\n",
       "dtype: int64"
      ]
     },
     "execution_count": 17,
     "metadata": {},
     "output_type": "execute_result"
    }
   ],
   "source": [
    "df.isnull().sum() "
   ]
  },
  {
   "cell_type": "code",
   "execution_count": 18,
   "id": "c73db731",
   "metadata": {},
   "outputs": [],
   "source": [
    "# We normalised the below mentioned columns since we noticed that,\n",
    "# there is a significant difference in range of values in the these columns.\n",
    "\n",
    "df['age']=(df['age']-df['age'].min())/(df['age'].max()-df['age'].min())\n",
    "df['avg_glucose_level']=(df['avg_glucose_level']-df['avg_glucose_level'].min())/(df['avg_glucose_level'].max()-df['avg_glucose_level'].min())\n",
    "df['bmi']=(df['bmi']-df['bmi'].min())/(df['bmi'].max()-df['bmi'].min())"
   ]
  },
  {
   "cell_type": "code",
   "execution_count": 19,
   "id": "b3a19c34",
   "metadata": {},
   "outputs": [
    {
     "name": "stdout",
     "output_type": "stream",
     "text": [
      "<class 'pandas.core.frame.DataFrame'>\n",
      "Int64Index: 43389 entries, 0 to 43399\n",
      "Data columns (total 11 columns):\n",
      " #   Column             Non-Null Count  Dtype  \n",
      "---  ------             --------------  -----  \n",
      " 0   gender             43389 non-null  object \n",
      " 1   age                43389 non-null  float64\n",
      " 2   hypertension       43389 non-null  int64  \n",
      " 3   heart_disease      43389 non-null  int64  \n",
      " 4   ever_married       43389 non-null  object \n",
      " 5   work_type          43389 non-null  object \n",
      " 6   Residence_type     43389 non-null  object \n",
      " 7   avg_glucose_level  43389 non-null  float64\n",
      " 8   bmi                43389 non-null  float64\n",
      " 9   smoking_status     43389 non-null  object \n",
      " 10  stroke             43389 non-null  int64  \n",
      "dtypes: float64(3), int64(3), object(5)\n",
      "memory usage: 4.0+ MB\n"
     ]
    }
   ],
   "source": [
    "df.info()"
   ]
  },
  {
   "cell_type": "markdown",
   "id": "975b41ff",
   "metadata": {},
   "source": [
    "### EXPLORATORY DATA ANALYSIS"
   ]
  },
  {
   "cell_type": "code",
   "execution_count": 20,
   "id": "d70acf0e",
   "metadata": {},
   "outputs": [
    {
     "data": {
      "text/plain": [
       "<AxesSubplot:ylabel='stroke'>"
      ]
     },
     "execution_count": 20,
     "metadata": {},
     "output_type": "execute_result"
    },
    {
     "data": {
      "image/png": "[encoded data removed]",
      "text/plain": [
       "<Figure size 432x288 with 1 Axes>"
      ]
     },
     "metadata": {},
     "output_type": "display_data"
    }
   ],
   "source": [
    "# For visualizing the frequency of our dependent variable that is stroke, we used pie chart.\n",
    "# There are 2 outcomes for this feature 0 and 1 which gives the likelihood of getting stroke.\n",
    "# This is an inbalanced dataset as we observe that the people who got stroke is very less compared to those who do not have stroke.\n",
    "\n",
    "df.groupby('stroke').size().plot(kind='pie', autopct='%.1f',label='stroke',colors=['magenta','white'])"
   ]
  },
  {
   "cell_type": "code",
   "execution_count": 21,
   "id": "51a188c0",
   "metadata": {},
   "outputs": [
    {
     "data": {
      "text/plain": [
       "<AxesSubplot:xlabel='gender', ylabel='count'>"
      ]
     },
     "execution_count": 21,
     "metadata": {},
     "output_type": "execute_result"
    },
    {
     "data": {
      "image/png": "[encoded data removed]",
      "text/plain": [
       "<Figure size 432x288 with 1 Axes>"
      ]
     },
     "metadata": {
      "needs_background": "light"
     },
     "output_type": "display_data"
    }
   ],
   "source": [
    "# We used countplot to depict how many have and not have stroke based on gender.\n",
    "# Observation-the no of females is more than no of males for both cases and we observe that gender by itself is not enough to predict the chance of getting stroke.\n",
    "\n",
    "sns.countplot(data=df,x='gender',hue='stroke',palette='tab10')"
   ]
  },
  {
   "cell_type": "code",
   "execution_count": 22,
   "id": "0b018d6a",
   "metadata": {},
   "outputs": [
    {
     "data": {
      "text/plain": [
       "<seaborn.axisgrid.FacetGrid at 0x144bacbe400>"
      ]
     },
     "execution_count": 22,
     "metadata": {},
     "output_type": "execute_result"
    },
    {
     "data": {
      "image/png": "[encoded data removed]",
      "text/plain": [
       "<Figure size 360x360 with 1 Axes>"
      ]
     },
     "metadata": {
      "needs_background": "light"
     },
     "output_type": "display_data"
    }
   ],
   "source": [
    "# We used distplot to represent the age distribution in our dataset.\n",
    "\n",
    "sns.displot(df['age'],color='black')"
   ]
  },
  {
   "cell_type": "code",
   "execution_count": 23,
   "id": "19482207",
   "metadata": {},
   "outputs": [
    {
     "data": {
      "text/plain": [
       "<AxesSubplot:xlabel='stroke', ylabel='age'>"
      ]
     },
     "execution_count": 23,
     "metadata": {},
     "output_type": "execute_result"
    },
    {
     "data": {
      "image/png": "[encoded data removed]",
      "text/plain": [
       "<Figure size 432x288 with 1 Axes>"
      ]
     },
     "metadata": {
      "needs_background": "light"
     },
     "output_type": "display_data"
    }
   ],
   "source": [
    "# We used boxplot to show how age and stroke are related.\n",
    "# Observation- people of 60 years and more likely to have stroke. Although we can see some outliers among people below 30 years,\n",
    "# it can be noted that people in the age group 30-70 are less likely to get stroke.\n",
    "\n",
    "sns.boxplot(data=df,x='stroke',y='age',palette='Paired')"
   ]
  },
  {
   "cell_type": "code",
   "execution_count": 24,
   "id": "662e31b5",
   "metadata": {},
   "outputs": [
    {
     "data": {
      "text/plain": [
       "<AxesSubplot:xlabel='hypertension', ylabel='count'>"
      ]
     },
     "execution_count": 24,
     "metadata": {},
     "output_type": "execute_result"
    },
    {
     "data": {
      "image/png": "[encoded data removed]",
      "text/plain": [
       "<Figure size 432x288 with 1 Axes>"
      ]
     },
     "metadata": {
      "needs_background": "light"
     },
     "output_type": "display_data"
    }
   ],
   "source": [
    "# We used countplot to show the count of patients who have hypertension.\n",
    "\n",
    "sns.countplot(data=df,x='hypertension',hue='stroke',palette='Set1')"
   ]
  },
  {
   "cell_type": "code",
   "execution_count": 25,
   "id": "2ad5a844",
   "metadata": {},
   "outputs": [
    {
     "data": {
      "text/plain": [
       "<AxesSubplot:xlabel='stroke', ylabel='hypertension'>"
      ]
     },
     "execution_count": 25,
     "metadata": {},
     "output_type": "execute_result"
    },
    {
     "data": {
      "image/png": "[encoded data removed]",
      "text/plain": [
       "<Figure size 432x288 with 1 Axes>"
      ]
     },
     "metadata": {
      "needs_background": "light"
     },
     "output_type": "display_data"
    }
   ],
   "source": [
    "# Used barplot to show the relation between stroke and hypertension.\n",
    "# Observation-it can be seen that as hypertension increases chance of getting stroke also increases.\n",
    "\n",
    "sns.barplot(data=df,x='stroke',y='hypertension',ci=None,palette='Set2')"
   ]
  },
  {
   "cell_type": "code",
   "execution_count": 26,
   "id": "3aa695a4",
   "metadata": {},
   "outputs": [
    {
     "data": {
      "text/plain": [
       "<AxesSubplot:xlabel='stroke', ylabel='heart_disease'>"
      ]
     },
     "execution_count": 26,
     "metadata": {},
     "output_type": "execute_result"
    },
    {
     "data": {
      "image/png": "[encoded data removed]",
      "text/plain": [
       "<Figure size 432x288 with 1 Axes>"
      ]
     },
     "metadata": {
      "needs_background": "light"
     },
     "output_type": "display_data"
    }
   ],
   "source": [
    "# Visualizing heart disease and stroke.\n",
    "# Observation- As the 'heart disease' increases the probability of an individual getting stroke also increases.\n",
    "\n",
    "sns.barplot(data=df,x='stroke',y='heart_disease',ci=None,palette='Set3')"
   ]
  },
  {
   "cell_type": "code",
   "execution_count": 27,
   "id": "37f92c08",
   "metadata": {},
   "outputs": [
    {
     "data": {
      "text/plain": [
       "<AxesSubplot:xlabel='ever_married', ylabel='count'>"
      ]
     },
     "execution_count": 27,
     "metadata": {},
     "output_type": "execute_result"
    },
    {
     "data": {
      "image/png": "[encoded data removed]",
      "text/plain": [
       "<Figure size 432x288 with 1 Axes>"
      ]
     },
     "metadata": {
      "needs_background": "light"
     },
     "output_type": "display_data"
    }
   ],
   "source": [
    "# Observation - People who are married have a higher stroke rate compared to those who are not.\n",
    "\n",
    "sns.countplot(data=df,x='ever_married',hue='stroke',palette='Paired')"
   ]
  },
  {
   "cell_type": "code",
   "execution_count": 28,
   "id": "21f3a017",
   "metadata": {},
   "outputs": [
    {
     "data": {
      "text/plain": [
       "<AxesSubplot:xlabel='work_type', ylabel='count'>"
      ]
     },
     "execution_count": 28,
     "metadata": {},
     "output_type": "execute_result"
    },
    {
     "data": {
      "image/png": "[encoded data removed]",
      "text/plain": [
       "<Figure size 432x288 with 1 Axes>"
      ]
     },
     "metadata": {
      "needs_background": "light"
     },
     "output_type": "display_data"
    }
   ],
   "source": [
    "# Observation - We notice that people working in the Private sector have a higher probability of getting a stroke.\n",
    "# And people who have never worked have a very less stroke rate.\n",
    "\n",
    "# Above code will return unique values of attributes and its count\n",
    "sns.countplot(data=df,x='work_type')\n",
    "# Above code will create a count plot\n",
    "sns.countplot(data=df,x='work_type',hue='stroke')\n",
    "# Above code will create a count plot with respect to stroke"
   ]
  },
  {
   "cell_type": "code",
   "execution_count": 29,
   "id": "579d90b5",
   "metadata": {},
   "outputs": [
    {
     "data": {
      "text/plain": [
       "<AxesSubplot:xlabel='Residence_type', ylabel='count'>"
      ]
     },
     "execution_count": 29,
     "metadata": {},
     "output_type": "execute_result"
    },
    {
     "data": {
      "image/png": "[encoded data removed]",
      "text/plain": [
       "<Figure size 432x288 with 1 Axes>"
      ]
     },
     "metadata": {
      "needs_background": "light"
     },
     "output_type": "display_data"
    }
   ],
   "source": [
    "# Residence Type with respect to stroke.\n",
    "# Observation - we cannot see much difference between the likelihood of getting stoke,\n",
    "# between people of both rural and urban residence type. Hence this feature is not very useful.\n",
    "\n",
    "sns.countplot(data=df,x='Residence_type',hue='stroke',color='brown')"
   ]
  },
  {
   "cell_type": "code",
   "execution_count": 30,
   "id": "7213785a",
   "metadata": {},
   "outputs": [
    {
     "data": {
      "text/plain": [
       "<seaborn.axisgrid.FacetGrid at 0x144bb3f7940>"
      ]
     },
     "execution_count": 30,
     "metadata": {},
     "output_type": "execute_result"
    },
    {
     "data": {
      "image/png": "[encoded data removed]",
      "text/plain": [
       "<Figure size 258.375x216 with 1 Axes>"
      ]
     },
     "metadata": {
      "needs_background": "light"
     },
     "output_type": "display_data"
    }
   ],
   "source": [
    "# Used scatter plot to find if combination of the variables age and avg_glucose_level has any impact on stroke.\n",
    "# Observation- Having more age increases chances of getting stroke.\n",
    "# We can see that almost all the yellow spots are after 40. \n",
    "# However, it is worth noting that a lot of the blue spots are also present after 40.\n",
    "\n",
    "sns.FacetGrid(df,hue='stroke').map(plt.scatter,'age','avg_glucose_level').add_legend()"
   ]
  },
  {
   "cell_type": "code",
   "execution_count": 31,
   "id": "f1a944ae",
   "metadata": {},
   "outputs": [
    {
     "data": {
      "image/png": "[encoded data removed]",
      "text/plain": [
       "<Figure size 618.375x576 with 1 Axes>"
      ]
     },
     "metadata": {
      "needs_background": "light"
     },
     "output_type": "display_data"
    }
   ],
   "source": [
    "# Used distplot for showing the patient's bmi.\n",
    "# Observation- People with bmi in the range 0.1-0.3 has higher chance of getting stroke.\n",
    "# Also the bmi column alone cannot be used to predict the likelihood of a stroke.\n",
    "\n",
    "sns.FacetGrid(df, hue=\"stroke\", height = 8).map(sns.distplot, \"bmi\").add_legend()\n",
    "plt.title(\"Distplot for patients' bmi\")\n",
    "plt.show()"
   ]
  },
  {
   "cell_type": "code",
   "execution_count": 32,
   "id": "a2d47854",
   "metadata": {},
   "outputs": [
    {
     "data": {
      "text/plain": [
       "<AxesSubplot:xlabel='smoking_status', ylabel='count'>"
      ]
     },
     "execution_count": 32,
     "metadata": {},
     "output_type": "execute_result"
    },
    {
     "data": {
      "image/png": "[encoded data removed]",
      "text/plain": [
       "<Figure size 432x288 with 1 Axes>"
      ]
     },
     "metadata": {
      "needs_background": "light"
     },
     "output_type": "display_data"
    }
   ],
   "source": [
    "# Observation - smoking_status is also not a good indicator by itself of whether the patient is likely to get a stroke.\n",
    "\n",
    "sns.countplot(data=df,x='smoking_status')\n",
    "# Count plot of smoking status\n",
    "sns.countplot(data=df,x='smoking_status',hue='stroke')\n",
    "# Smoking Status with respect to Stroke"
   ]
  },
  {
   "cell_type": "code",
   "execution_count": 33,
   "id": "8636fb04",
   "metadata": {},
   "outputs": [
    {
     "data": {
      "text/plain": [
       "gender  stroke\n",
       "Female  0         25234\n",
       "        1           431\n",
       "Male    0         17372\n",
       "        1           352\n",
       "Name: stroke, dtype: int64"
      ]
     },
     "execution_count": 33,
     "metadata": {},
     "output_type": "execute_result"
    }
   ],
   "source": [
    "df.groupby([\"gender\"])[\"stroke\"].value_counts()"
   ]
  },
  {
   "cell_type": "code",
   "execution_count": 34,
   "id": "586a34fc",
   "metadata": {},
   "outputs": [
    {
     "data": {
      "text/plain": [
       "smoking_status   stroke\n",
       "formerly smoked  0          7266\n",
       "                 1           221\n",
       "never smoked     0         15767\n",
       "                 1           284\n",
       "not known        0         13145\n",
       "                 1           145\n",
       "smokes           0          6428\n",
       "                 1           133\n",
       "Name: stroke, dtype: int64"
      ]
     },
     "execution_count": 34,
     "metadata": {},
     "output_type": "execute_result"
    }
   ],
   "source": [
    "df.groupby([\"smoking_status\"])[\"stroke\"].value_counts()"
   ]
  },
  {
   "cell_type": "code",
   "execution_count": 35,
   "id": "91a14b9e",
   "metadata": {},
   "outputs": [
    {
     "data": {
      "image/png": "[encoded data removed]",
      "text/plain": [
       "<Figure size 432x288 with 1 Axes>"
      ]
     },
     "metadata": {
      "needs_background": "light"
     },
     "output_type": "display_data"
    }
   ],
   "source": [
    "# Used countplot to show gender vs type of smokers.\n",
    "# Observation- In our data, the number of females who regularly smokes and have never smoked are more compared to males. \n",
    "\n",
    "sns.countplot(x=df[\"gender\"], hue=df[\"smoking_status\"],palette='Paired')\n",
    "plt.title(\"gender vs type of smokers\", fontsize=15)\n",
    "plt.show()"
   ]
  },
  {
   "cell_type": "code",
   "execution_count": 36,
   "id": "167c8aaf",
   "metadata": {},
   "outputs": [],
   "source": [
    "# we converted the following categorical values to numerical values using replace function"
   ]
  },
  {
   "cell_type": "code",
   "execution_count": 37,
   "id": "9a50184a",
   "metadata": {},
   "outputs": [],
   "source": [
    "df['smoking_status']=df['smoking_status'].replace({'never smoked' : 0,'formerly smoked' : 1,'smokes' : 2,'not known' : 3})"
   ]
  },
  {
   "cell_type": "code",
   "execution_count": 38,
   "id": "1fa13fdb",
   "metadata": {},
   "outputs": [],
   "source": [
    "df['ever_married']=df['ever_married'].replace({'Yes' : 1,'No' : 0})"
   ]
  },
  {
   "cell_type": "code",
   "execution_count": 39,
   "id": "6c309c21",
   "metadata": {},
   "outputs": [],
   "source": [
    "df['Residence_type']=df['Residence_type'].replace({'Rural' : 0,'Urban' : 1})"
   ]
  },
  {
   "cell_type": "code",
   "execution_count": 40,
   "id": "0f2d4543",
   "metadata": {},
   "outputs": [],
   "source": [
    "df['gender']=df['gender'].replace({'Male' : 0, 'Female' : 1})"
   ]
  },
  {
   "cell_type": "code",
   "execution_count": 41,
   "id": "ef9069dd",
   "metadata": {},
   "outputs": [],
   "source": [
    "df['work_type']=df['work_type'].replace({'children' : 0,'Private' : 1,'Never_worked' : 2,'Self-employed' : 3,'Govt_job' : 4})"
   ]
  },
  {
   "cell_type": "code",
   "execution_count": 42,
   "id": "fe59b20f",
   "metadata": {},
   "outputs": [
    {
     "data": {
      "text/html": [
       "<div>\n",
       "<style scoped>\n",
       "    .dataframe tbody tr th:only-of-type {\n",
       "        vertical-align: middle;\n",
       "    }\n",
       "\n",
       "    .dataframe tbody tr th {\n",
       "        vertical-align: top;\n",
       "    }\n",
       "\n",
       "    .dataframe thead th {\n",
       "        text-align: right;\n",
       "    }\n",
       "</style>\n",
       "<table border=\"1\" class=\"dataframe\">\n",
       "  <thead>\n",
       "    <tr style=\"text-align: right;\">\n",
       "      <th></th>\n",
       "      <th>gender</th>\n",
       "      <th>age</th>\n",
       "      <th>hypertension</th>\n",
       "      <th>heart_disease</th>\n",
       "      <th>ever_married</th>\n",
       "      <th>work_type</th>\n",
       "      <th>Residence_type</th>\n",
       "      <th>avg_glucose_level</th>\n",
       "      <th>bmi</th>\n",
       "      <th>smoking_status</th>\n",
       "      <th>stroke</th>\n",
       "    </tr>\n",
       "  </thead>\n",
       "  <tbody>\n",
       "    <tr>\n",
       "      <th>gender</th>\n",
       "      <td>1.000000</td>\n",
       "      <td>0.027676</td>\n",
       "      <td>-0.024005</td>\n",
       "      <td>-0.082353</td>\n",
       "      <td>0.031073</td>\n",
       "      <td>0.036716</td>\n",
       "      <td>-0.001587</td>\n",
       "      <td>-0.035815</td>\n",
       "      <td>0.022338</td>\n",
       "      <td>-0.089128</td>\n",
       "      <td>-0.011324</td>\n",
       "    </tr>\n",
       "    <tr>\n",
       "      <th>age</th>\n",
       "      <td>0.027676</td>\n",
       "      <td>1.000000</td>\n",
       "      <td>0.272167</td>\n",
       "      <td>0.250191</td>\n",
       "      <td>0.693049</td>\n",
       "      <td>0.452533</td>\n",
       "      <td>0.001282</td>\n",
       "      <td>0.237633</td>\n",
       "      <td>0.350193</td>\n",
       "      <td>-0.300206</td>\n",
       "      <td>0.156050</td>\n",
       "    </tr>\n",
       "    <tr>\n",
       "      <th>hypertension</th>\n",
       "      <td>-0.024005</td>\n",
       "      <td>0.272167</td>\n",
       "      <td>1.000000</td>\n",
       "      <td>0.119761</td>\n",
       "      <td>0.176572</td>\n",
       "      <td>0.108411</td>\n",
       "      <td>-0.003132</td>\n",
       "      <td>0.160191</td>\n",
       "      <td>0.151365</td>\n",
       "      <td>-0.096951</td>\n",
       "      <td>0.075322</td>\n",
       "    </tr>\n",
       "    <tr>\n",
       "      <th>heart_disease</th>\n",
       "      <td>-0.082353</td>\n",
       "      <td>0.250191</td>\n",
       "      <td>0.119761</td>\n",
       "      <td>1.000000</td>\n",
       "      <td>0.128832</td>\n",
       "      <td>0.079235</td>\n",
       "      <td>-0.002748</td>\n",
       "      <td>0.146925</td>\n",
       "      <td>0.051751</td>\n",
       "      <td>-0.018994</td>\n",
       "      <td>0.113756</td>\n",
       "    </tr>\n",
       "    <tr>\n",
       "      <th>ever_married</th>\n",
       "      <td>0.031073</td>\n",
       "      <td>0.693049</td>\n",
       "      <td>0.176572</td>\n",
       "      <td>0.128832</td>\n",
       "      <td>1.000000</td>\n",
       "      <td>0.367792</td>\n",
       "      <td>0.004344</td>\n",
       "      <td>0.153609</td>\n",
       "      <td>0.336179</td>\n",
       "      <td>-0.251704</td>\n",
       "      <td>0.071917</td>\n",
       "    </tr>\n",
       "    <tr>\n",
       "      <th>work_type</th>\n",
       "      <td>0.036716</td>\n",
       "      <td>0.452533</td>\n",
       "      <td>0.108411</td>\n",
       "      <td>0.079235</td>\n",
       "      <td>0.367792</td>\n",
       "      <td>1.000000</td>\n",
       "      <td>-0.003745</td>\n",
       "      <td>0.095072</td>\n",
       "      <td>0.244334</td>\n",
       "      <td>-0.219512</td>\n",
       "      <td>0.045948</td>\n",
       "    </tr>\n",
       "    <tr>\n",
       "      <th>Residence_type</th>\n",
       "      <td>-0.001587</td>\n",
       "      <td>0.001282</td>\n",
       "      <td>-0.003132</td>\n",
       "      <td>-0.002748</td>\n",
       "      <td>0.004344</td>\n",
       "      <td>-0.003745</td>\n",
       "      <td>1.000000</td>\n",
       "      <td>0.000030</td>\n",
       "      <td>-0.003813</td>\n",
       "      <td>-0.000009</td>\n",
       "      <td>0.002244</td>\n",
       "    </tr>\n",
       "    <tr>\n",
       "      <th>avg_glucose_level</th>\n",
       "      <td>-0.035815</td>\n",
       "      <td>0.237633</td>\n",
       "      <td>0.160191</td>\n",
       "      <td>0.146925</td>\n",
       "      <td>0.153609</td>\n",
       "      <td>0.095072</td>\n",
       "      <td>0.000030</td>\n",
       "      <td>1.000000</td>\n",
       "      <td>0.181928</td>\n",
       "      <td>-0.066372</td>\n",
       "      <td>0.078908</td>\n",
       "    </tr>\n",
       "    <tr>\n",
       "      <th>bmi</th>\n",
       "      <td>0.022338</td>\n",
       "      <td>0.350193</td>\n",
       "      <td>0.151365</td>\n",
       "      <td>0.051751</td>\n",
       "      <td>0.336179</td>\n",
       "      <td>0.244334</td>\n",
       "      <td>-0.003813</td>\n",
       "      <td>0.181928</td>\n",
       "      <td>1.000000</td>\n",
       "      <td>-0.226644</td>\n",
       "      <td>0.016071</td>\n",
       "    </tr>\n",
       "    <tr>\n",
       "      <th>smoking_status</th>\n",
       "      <td>-0.089128</td>\n",
       "      <td>-0.300206</td>\n",
       "      <td>-0.096951</td>\n",
       "      <td>-0.018994</td>\n",
       "      <td>-0.251704</td>\n",
       "      <td>-0.219512</td>\n",
       "      <td>-0.000009</td>\n",
       "      <td>-0.066372</td>\n",
       "      <td>-0.226644</td>\n",
       "      <td>1.000000</td>\n",
       "      <td>-0.023252</td>\n",
       "    </tr>\n",
       "    <tr>\n",
       "      <th>stroke</th>\n",
       "      <td>-0.011324</td>\n",
       "      <td>0.156050</td>\n",
       "      <td>0.075322</td>\n",
       "      <td>0.113756</td>\n",
       "      <td>0.071917</td>\n",
       "      <td>0.045948</td>\n",
       "      <td>0.002244</td>\n",
       "      <td>0.078908</td>\n",
       "      <td>0.016071</td>\n",
       "      <td>-0.023252</td>\n",
       "      <td>1.000000</td>\n",
       "    </tr>\n",
       "  </tbody>\n",
       "</table>\n",
       "</div>"
      ],
      "text/plain": [
       "                     gender       age  hypertension  heart_disease  \\\n",
       "gender             1.000000  0.027676     -0.024005      -0.082353   \n",
       "age                0.027676  1.000000      0.272167       0.250191   \n",
       "hypertension      -0.024005  0.272167      1.000000       0.119761   \n",
       "heart_disease     -0.082353  0.250191      0.119761       1.000000   \n",
       "ever_married       0.031073  0.693049      0.176572       0.128832   \n",
       "work_type          0.036716  0.452533      0.108411       0.079235   \n",
       "Residence_type    -0.001587  0.001282     -0.003132      -0.002748   \n",
       "avg_glucose_level -0.035815  0.237633      0.160191       0.146925   \n",
       "bmi                0.022338  0.350193      0.151365       0.051751   \n",
       "smoking_status    -0.089128 -0.300206     -0.096951      -0.018994   \n",
       "stroke            -0.011324  0.156050      0.075322       0.113756   \n",
       "\n",
       "                   ever_married  work_type  Residence_type  avg_glucose_level  \\\n",
       "gender                 0.031073   0.036716       -0.001587          -0.035815   \n",
       "age                    0.693049   0.452533        0.001282           0.237633   \n",
       "hypertension           0.176572   0.108411       -0.003132           0.160191   \n",
       "heart_disease          0.128832   0.079235       -0.002748           0.146925   \n",
       "ever_married           1.000000   0.367792        0.004344           0.153609   \n",
       "work_type              0.367792   1.000000       -0.003745           0.095072   \n",
       "Residence_type         0.004344  -0.003745        1.000000           0.000030   \n",
       "avg_glucose_level      0.153609   0.095072        0.000030           1.000000   \n",
       "bmi                    0.336179   0.244334       -0.003813           0.181928   \n",
       "smoking_status        -0.251704  -0.219512       -0.000009          -0.066372   \n",
       "stroke                 0.071917   0.045948        0.002244           0.078908   \n",
       "\n",
       "                        bmi  smoking_status    stroke  \n",
       "gender             0.022338       -0.089128 -0.011324  \n",
       "age                0.350193       -0.300206  0.156050  \n",
       "hypertension       0.151365       -0.096951  0.075322  \n",
       "heart_disease      0.051751       -0.018994  0.113756  \n",
       "ever_married       0.336179       -0.251704  0.071917  \n",
       "work_type          0.244334       -0.219512  0.045948  \n",
       "Residence_type    -0.003813       -0.000009  0.002244  \n",
       "avg_glucose_level  0.181928       -0.066372  0.078908  \n",
       "bmi                1.000000       -0.226644  0.016071  \n",
       "smoking_status    -0.226644        1.000000 -0.023252  \n",
       "stroke             0.016071       -0.023252  1.000000  "
      ]
     },
     "execution_count": 42,
     "metadata": {},
     "output_type": "execute_result"
    }
   ],
   "source": [
    "# calulated the correlation of each features with the dependent variable 'stroke'.\n",
    "\n",
    "df.corr() "
   ]
  },
  {
   "cell_type": "markdown",
   "id": "f8d5b533",
   "metadata": {},
   "source": [
    "### OR"
   ]
  },
  {
   "cell_type": "code",
   "execution_count": 43,
   "id": "ee77c3d8",
   "metadata": {},
   "outputs": [
    {
     "data": {
      "text/plain": [
       "Text(0.5, 1.0, 'Correlation Heatmap')"
      ]
     },
     "execution_count": 43,
     "metadata": {},
     "output_type": "execute_result"
    },
    {
     "data": {
      "image/png": "[encoded data removed]",
      "text/plain": [
       "<Figure size 720x720 with 2 Axes>"
      ]
     },
     "metadata": {
      "needs_background": "light"
     },
     "output_type": "display_data"
    }
   ],
   "source": [
    "# Similarly done, using heatmap.\n",
    "\n",
    "fig, ax = plt.subplots(figsize=(10, 10))\n",
    "heatmap = sns.heatmap(df.corr(), vmax=1, annot=True,ax = ax)\n",
    "heatmap.set_title('Correlation Heatmap')"
   ]
  },
  {
   "cell_type": "markdown",
   "id": "37d0cab4",
   "metadata": {},
   "source": [
    "### HYPOTHESIS TESTING"
   ]
  },
  {
   "cell_type": "markdown",
   "id": "a8c84ae6",
   "metadata": {},
   "source": [
    "####  a) T-TEST "
   ]
  },
  {
   "cell_type": "code",
   "execution_count": 44,
   "id": "98248e00",
   "metadata": {},
   "outputs": [],
   "source": [
    "# Grouped the categorical and numerical columns separately.\n",
    "\n",
    "cat_cols = ['gender', 'ever_married', 'work_type', 'Residence_type', 'smoking_status', 'hypertension', 'heart_disease', 'stroke']\n",
    "num_cols = ['age', 'avg_glucose_level', 'bmi']"
   ]
  },
  {
   "cell_type": "code",
   "execution_count": 45,
   "id": "c224c4ce",
   "metadata": {},
   "outputs": [],
   "source": [
    "# Storing our alpha value in the variable.\n",
    "\n",
    "ALPHA = 0.05"
   ]
  },
  {
   "cell_type": "code",
   "execution_count": 46,
   "id": "dc9c7a9c",
   "metadata": {},
   "outputs": [],
   "source": [
    "# Null hypothesis, H0: The dependent variable 'stroke' and other independent features are related (or dependent)\n",
    "# Alternative hypothesis, H1:  The dependent variable 'stroke' and other independent features are not related (or not dependent)"
   ]
  },
  {
   "cell_type": "code",
   "execution_count": 47,
   "id": "8d437e0a",
   "metadata": {},
   "outputs": [
    {
     "name": "stdout",
     "output_type": "stream",
     "text": [
      "Since p = 0.0 < 0.05, reject H0, different avg_glucose_level distributions between \"Stroke\" and \"No stroke\" (t=11.91651, p=0.0)\n"
     ]
    }
   ],
   "source": [
    "# We have perfromed t-test on stroke with the feature 'avg_glucose_level' \n",
    "# and we can clearly see that the p-value we get is less than the alpha value, hence rejecting the null hypothesis.  \n",
    "# This clearly implies that the different avg_glucose_level distribution does affect the likelihood of getting a stroke.\n",
    "\n",
    "x, y = df[df.stroke==1].avg_glucose_level, df[df.stroke==0].avg_glucose_level\n",
    "\n",
    "t, p = stats.ttest_ind(x, y, equal_var=False)\n",
    "t, p = round(t, 5), round(p, 5)\n",
    "\n",
    "if p <= ALPHA:\n",
    "    print(f'Since p = {p} < {ALPHA}, reject H0, different avg_glucose_level distributions between \"Stroke\" and \"No stroke\" (t={t}, p={p})')\n",
    "else:\n",
    "    print(f'Since p = {p} > {ALPHA}, fail to reject H0, same avg_glucose_level distributions between \"Stroke\" and \"No stroke\" (t={t}, p={p}).')"
   ]
  },
  {
   "cell_type": "code",
   "execution_count": 48,
   "id": "a705c504",
   "metadata": {},
   "outputs": [
    {
     "name": "stdout",
     "output_type": "stream",
     "text": [
      "Since p = 1e-05 < 0.05, reject H0, different BMI distributions between Stroke and \"No stroke\" (t=4.37377, p=1e-05)\n"
     ]
    }
   ],
   "source": [
    "# Similarly, for the column 'bmi', from the testing, we can understand that the various various bmi values has a say in the predicition of stroke.\n",
    "\n",
    "x, y = df[df.stroke==1].bmi, df[df.stroke==0].bmi\n",
    "\n",
    "t, p = stats.ttest_ind(x, y, equal_var=False)\n",
    "t, p = round(t, 5), round(p, 5)\n",
    "\n",
    "if p <= ALPHA:\n",
    "    print(f'Since p = {p} < {ALPHA}, reject H0, different BMI distributions between Stroke and \"No stroke\" (t={t}, p={p})')\n",
    "else:\n",
    "    print(f'Since p = {p} > {ALPHA}, fail to reject H0, same BMI distributions between Stroke and \"No stroke\" (t={t}, p={p}).')"
   ]
  },
  {
   "cell_type": "code",
   "execution_count": 49,
   "id": "2d021c80",
   "metadata": {},
   "outputs": [
    {
     "name": "stdout",
     "output_type": "stream",
     "text": [
      "Since p = 0.0 < 0.05, reject H0, different Age distributions between Stroke and \"No stroke\" (t=58.23705, p=0.0)\n"
     ]
    }
   ],
   "source": [
    "# We performed the test also for the feature 'age', since it is driving factor in the prediction of stroke.\n",
    "# As expected, we observe that different age distributions does affect the occurance of stroke.\n",
    "\n",
    "x, y = df[df.stroke==1].age, df[df.stroke==0].age\n",
    "\n",
    "t, p = stats.ttest_ind(x, y, equal_var=False)\n",
    "t, p = round(t, 5), round(p, 5)\n",
    "\n",
    "if p <= ALPHA:\n",
    "    print(f'Since p = {p} < {ALPHA}, reject H0, different Age distributions between Stroke and \"No stroke\" (t={t}, p={p})')\n",
    "else:\n",
    "    print(f'Since p = {p} > {ALPHA}, fail to reject H0, same Age distributions between Stroke and \"No stroke\" (t={t}, p={p}).')"
   ]
  },
  {
   "cell_type": "code",
   "execution_count": 50,
   "id": "29fb190f",
   "metadata": {},
   "outputs": [
    {
     "data": {
      "text/html": [
       "<style type=\"text/css\">\n",
       "#T_1fb39_row0_col0, #T_1fb39_row0_col1, #T_1fb39_row0_col5, #T_1fb39_row0_col6, #T_1fb39_row1_col0, #T_1fb39_row1_col1, #T_1fb39_row1_col5, #T_1fb39_row1_col6, #T_1fb39_row2_col0, #T_1fb39_row2_col1, #T_1fb39_row2_col5, #T_1fb39_row2_col6 {\n",
       "  cmap: Blues;\n",
       "}\n",
       "#T_1fb39_row0_col2, #T_1fb39_row0_col3, #T_1fb39_row0_col4, #T_1fb39_row1_col2, #T_1fb39_row1_col4, #T_1fb39_row2_col2 {\n",
       "  background-color: #f7fbff;\n",
       "  color: #000000;\n",
       "  cmap: Blues;\n",
       "}\n",
       "#T_1fb39_row1_col3 {\n",
       "  background-color: #0a549e;\n",
       "  color: #f1f1f1;\n",
       "  cmap: Blues;\n",
       "}\n",
       "#T_1fb39_row2_col3, #T_1fb39_row2_col4 {\n",
       "  background-color: #08306b;\n",
       "  color: #f1f1f1;\n",
       "  cmap: Blues;\n",
       "}\n",
       "</style>\n",
       "<table id=\"T_1fb39_\">\n",
       "  <thead>\n",
       "    <tr>\n",
       "      <th class=\"blank level0\" >&nbsp;</th>\n",
       "      <th class=\"col_heading level0 col0\" >cat_cols</th>\n",
       "      <th class=\"col_heading level0 col1\" >num_cols</th>\n",
       "      <th class=\"col_heading level0 col2\" >alpha</th>\n",
       "      <th class=\"col_heading level0 col3\" >t</th>\n",
       "      <th class=\"col_heading level0 col4\" >p</th>\n",
       "      <th class=\"col_heading level0 col5\" >H0</th>\n",
       "      <th class=\"col_heading level0 col6\" >relation</th>\n",
       "    </tr>\n",
       "  </thead>\n",
       "  <tbody>\n",
       "    <tr>\n",
       "      <th id=\"T_1fb39_level0_row0\" class=\"row_heading level0 row0\" >0</th>\n",
       "      <td id=\"T_1fb39_row0_col0\" class=\"data row0 col0\" >stroke</td>\n",
       "      <td id=\"T_1fb39_row0_col1\" class=\"data row0 col1\" >age</td>\n",
       "      <td id=\"T_1fb39_row0_col2\" class=\"data row0 col2\" >0.050000</td>\n",
       "      <td id=\"T_1fb39_row0_col3\" class=\"data row0 col3\" >-58.237000</td>\n",
       "      <td id=\"T_1fb39_row0_col4\" class=\"data row0 col4\" >0.000000</td>\n",
       "      <td id=\"T_1fb39_row0_col5\" class=\"data row0 col5\" >Rejected</td>\n",
       "      <td id=\"T_1fb39_row0_col6\" class=\"data row0 col6\" >Different</td>\n",
       "    </tr>\n",
       "    <tr>\n",
       "      <th id=\"T_1fb39_level0_row1\" class=\"row_heading level0 row1\" >1</th>\n",
       "      <td id=\"T_1fb39_row1_col0\" class=\"data row1 col0\" >stroke</td>\n",
       "      <td id=\"T_1fb39_row1_col1\" class=\"data row1 col1\" >avg_glucose_level</td>\n",
       "      <td id=\"T_1fb39_row1_col2\" class=\"data row1 col2\" >0.050000</td>\n",
       "      <td id=\"T_1fb39_row1_col3\" class=\"data row1 col3\" >-11.917000</td>\n",
       "      <td id=\"T_1fb39_row1_col4\" class=\"data row1 col4\" >0.000000</td>\n",
       "      <td id=\"T_1fb39_row1_col5\" class=\"data row1 col5\" >Rejected</td>\n",
       "      <td id=\"T_1fb39_row1_col6\" class=\"data row1 col6\" >Different</td>\n",
       "    </tr>\n",
       "    <tr>\n",
       "      <th id=\"T_1fb39_level0_row2\" class=\"row_heading level0 row2\" >2</th>\n",
       "      <td id=\"T_1fb39_row2_col0\" class=\"data row2 col0\" >stroke</td>\n",
       "      <td id=\"T_1fb39_row2_col1\" class=\"data row2 col1\" >bmi</td>\n",
       "      <td id=\"T_1fb39_row2_col2\" class=\"data row2 col2\" >0.050000</td>\n",
       "      <td id=\"T_1fb39_row2_col3\" class=\"data row2 col3\" >-4.374000</td>\n",
       "      <td id=\"T_1fb39_row2_col4\" class=\"data row2 col4\" >0.000010</td>\n",
       "      <td id=\"T_1fb39_row2_col5\" class=\"data row2 col5\" >Rejected</td>\n",
       "      <td id=\"T_1fb39_row2_col6\" class=\"data row2 col6\" >Different</td>\n",
       "    </tr>\n",
       "  </tbody>\n",
       "</table>\n"
      ],
      "text/plain": [
       "<pandas.io.formats.style.Styler at 0x144bb472ee0>"
      ]
     },
     "execution_count": 50,
     "metadata": {},
     "output_type": "execute_result"
    }
   ],
   "source": [
    "t_test_df = pd.DataFrame(columns=['cat_cols', 'num_cols', 'alpha', 't', 'p'])\n",
    "\n",
    "for col in num_cols:\n",
    "    t, p = stats.ttest_ind(df.loc[df.stroke==0, col],\n",
    "                            df.loc[df.stroke==1, col],\n",
    "                            equal_var=False)\n",
    "    t, p = round(t, 3), round(p, 5)\n",
    "    t_test_df = t_test_df.append({'cat_cols': 'stroke', 'num_cols': col,\n",
    "                    'alpha': ALPHA, 't': t, 'p': p}, ignore_index=True)\n",
    "\n",
    "t_test_df['H0'] = t_test_df.p.apply(lambda x: 'Rejected' if x <= ALPHA else 'Fail to reject')\n",
    "t_test_df['relation'] = t_test_df.H0.apply(lambda x: 'Different' if x =='Rejected' else 'Same')\n",
    "def color_fail_to_rej(value):\n",
    "    if value in ('Fail to reject', 'Same'):\n",
    "        return 'color:green'\n",
    "    else:\n",
    "        return 'cmap: Blues'\n",
    "t_test_df.style.background_gradient(cmap = 'Blues').applymap(color_fail_to_rej)"
   ]
  },
  {
   "cell_type": "markdown",
   "id": "366a2ec0",
   "metadata": {},
   "source": [
    "##### b) ONE-WAY ANOVA TEST"
   ]
  },
  {
   "cell_type": "code",
   "execution_count": 51,
   "id": "e5d014a4",
   "metadata": {},
   "outputs": [
    {
     "name": "stdout",
     "output_type": "stream",
     "text": [
      "                       sum_sq       df           F         PR(>F)\n",
      "avg_glucose_level    1.757454      1.0  102.059509   5.727313e-24\n",
      "age                 16.995165      1.0  986.949534  3.141854e-214\n",
      "bmi                  1.636055      1.0   95.009569   1.997855e-22\n",
      "Residual           747.085039  43385.0         NaN            NaN\n"
     ]
    }
   ],
   "source": [
    "import statsmodels.api as sm\n",
    "from statsmodels.formula.api import ols\n",
    "\n",
    "#observation - we observe that the p-value of all the features is less than the calculated f-statistic value,\n",
    "#hence drawing a conclusion of rejecting the null hypothesis.\n",
    "\n",
    "# Perform one-way ANOVA\n",
    "model = ols('stroke ~ avg_glucose_level + age + bmi', data=df).fit()\n",
    "anova_table = sm.stats.anova_lm(model, typ=2)\n",
    "\n",
    "# Printing the ANOVA table\n",
    "print(anova_table)"
   ]
  },
  {
   "cell_type": "code",
   "execution_count": 52,
   "id": "bb68232f",
   "metadata": {},
   "outputs": [],
   "source": [
    "# splitted  dependent variable and independent variables\n",
    "# splitted our data into training and testing datasets\n",
    "\n",
    "from sklearn.model_selection import train_test_split  \n",
    "X= df.drop('stroke',axis=1)\n",
    "Y= df['stroke']\n",
    "X_train,X_test,Y_train,Y_test=train_test_split(X,Y,random_state=0,test_size=0.25)"
   ]
  },
  {
   "cell_type": "markdown",
   "id": "2597404a",
   "metadata": {},
   "source": [
    "#####  Naive Bayes classifier "
   ]
  },
  {
   "cell_type": "code",
   "execution_count": 53,
   "id": "4918c385",
   "metadata": {},
   "outputs": [
    {
     "data": {
      "text/plain": [
       "GaussianNB()"
      ]
     },
     "execution_count": 53,
     "metadata": {},
     "output_type": "execute_result"
    }
   ],
   "source": [
    "# Fitting Naive Bayes to the training set\n",
    "from sklearn.naive_bayes import GaussianNB\n",
    "Gnb=GaussianNB()\n",
    "Gnb.fit(X_train,Y_train)"
   ]
  },
  {
   "cell_type": "code",
   "execution_count": 54,
   "id": "aadf0b6c",
   "metadata": {},
   "outputs": [],
   "source": [
    "# Predicting the Test set results\n",
    "Y_pred=Gnb.predict(X_test)"
   ]
  },
  {
   "cell_type": "code",
   "execution_count": 55,
   "id": "a9611fe2",
   "metadata": {},
   "outputs": [
    {
     "data": {
      "text/plain": [
       "0.9122418879056047"
      ]
     },
     "execution_count": 55,
     "metadata": {},
     "output_type": "execute_result"
    }
   ],
   "source": [
    "# Calculating the accuracy score \n",
    "from sklearn.metrics import accuracy_score, confusion_matrix, classification_report\n",
    "accuracy_score(Y_test,Y_pred)"
   ]
  },
  {
   "cell_type": "code",
   "execution_count": 56,
   "id": "d9506ccd",
   "metadata": {},
   "outputs": [
    {
     "name": "stdout",
     "output_type": "stream",
     "text": [
      "              precision    recall  f1-score   support\n",
      "\n",
      "           0       0.92      0.99      0.95      9970\n",
      "           1       0.32      0.08      0.12       878\n",
      "\n",
      "    accuracy                           0.91     10848\n",
      "   macro avg       0.62      0.53      0.54     10848\n",
      "weighted avg       0.87      0.91      0.89     10848\n",
      "\n"
     ]
    }
   ],
   "source": [
    "# Evaluated the performance of the model using key metrics\n",
    "report=classification_report(Y_pred,Y_test)\n",
    "print(report)"
   ]
  },
  {
   "cell_type": "markdown",
   "id": "019d87df",
   "metadata": {},
   "source": [
    "#####  Random Forest Classifier"
   ]
  },
  {
   "cell_type": "code",
   "execution_count": 57,
   "id": "6f0f140f",
   "metadata": {},
   "outputs": [
    {
     "data": {
      "text/plain": [
       "RandomForestClassifier()"
      ]
     },
     "execution_count": 57,
     "metadata": {},
     "output_type": "execute_result"
    }
   ],
   "source": [
    "# Fitting the data and training the model,similar to the precious classifier.\n",
    "from sklearn.ensemble import RandomForestClassifier\n",
    "rclf = RandomForestClassifier()\n",
    "rclf.fit(X_train, Y_train)"
   ]
  },
  {
   "cell_type": "code",
   "execution_count": 58,
   "id": "f4cf8571",
   "metadata": {},
   "outputs": [],
   "source": [
    "ypred = rclf.predict(X_test)"
   ]
  },
  {
   "cell_type": "code",
   "execution_count": 59,
   "id": "cc1c9e8a",
   "metadata": {},
   "outputs": [
    {
     "data": {
      "text/plain": [
       "0.9805494100294986"
      ]
     },
     "execution_count": 59,
     "metadata": {},
     "output_type": "execute_result"
    }
   ],
   "source": [
    "accuracy_score(Y_test,ypred)"
   ]
  },
  {
   "cell_type": "code",
   "execution_count": 60,
   "id": "b987fb57",
   "metadata": {},
   "outputs": [
    {
     "name": "stdout",
     "output_type": "stream",
     "text": [
      "              precision    recall  f1-score   support\n",
      "\n",
      "           0       1.00      0.98      0.99     10843\n",
      "           1       0.00      0.00      0.00         5\n",
      "\n",
      "    accuracy                           0.98     10848\n",
      "   macro avg       0.50      0.49      0.50     10848\n",
      "weighted avg       1.00      0.98      0.99     10848\n",
      "\n"
     ]
    }
   ],
   "source": [
    "rep=classification_report(ypred,Y_test)\n",
    "print(rep)"
   ]
  }
 ],
 "metadata": {
  "kernelspec": {
   "display_name": "Python 3 (ipykernel)",
   "language": "python",
   "name": "python3"
  },
  "language_info": {
   "codemirror_mode": {
    "name": "ipython",
    "version": 3
   },
   "file_extension": ".py",
   "mimetype": "text/x-python",
   "name": "python",
   "nbconvert_exporter": "python",
   "pygments_lexer": "ipython3",
   "version": "3.9.12"
  }
 },
 "nbformat": 4,
 "nbformat_minor": 5
}
